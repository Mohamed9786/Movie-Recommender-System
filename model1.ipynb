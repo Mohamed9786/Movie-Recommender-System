{
  "nbformat": 4,
  "nbformat_minor": 0,
  "metadata": {
    "colab": {
      "provenance": []
    },
    "kernelspec": {
      "name": "python3",
      "display_name": "Python 3"
    },
    "language_info": {
      "name": "python"
    }
  },
  "cells": [
    {
      "cell_type": "code",
      "source": [
        "# Import libraries\n",
        "import pandas as pd\n",
        "import numpy as np  # Single version of numpy\n",
        "from surprise import Dataset, Reader, SVD\n",
        "from surprise.model_selection import train_test_split\n",
        "from surprise import accuracy\n"
      ],
      "metadata": {
        "id": "KyB12hIPqn-C"
      },
      "execution_count": 7,
      "outputs": []
    },
    {
      "cell_type": "code",
      "source": [
        "# Reading and preparing the data\n",
        "ratings = pd.read_csv('/content/rating.csv', nrows=1000000)\n",
        "movies = pd.read_csv('/content/movie.csv', nrows=1000000)\n",
        "\n",
        "# Extract and clean the year from the movie title\n",
        "movies['year'] = movies['title'].str.extract(r'\\((\\d{4})\\)', expand=False)\n",
        "movies['title'] = movies['title'].str.replace(r'\\(\\d{4}\\)', '', regex=True).str.strip()\n",
        "\n",
        "# Number of unique users and movies\n",
        "n_users = ratings['userId'].nunique()\n",
        "n_movies = ratings['movieId'].nunique()\n",
        "print(f'Number of users = {n_users} | Number of movies = {n_movies}')\n"
      ],
      "metadata": {
        "colab": {
          "base_uri": "https://localhost:8080/"
        },
        "id": "Hz67sUfttmXp",
        "outputId": "468c5adf-28cf-4304-e0c3-b7cdeb02da42"
      },
      "execution_count": 8,
      "outputs": [
        {
          "output_type": "stream",
          "name": "stdout",
          "text": [
            "Number of users = 6743 | Number of movies = 13950\n"
          ]
        }
      ]
    },
    {
      "cell_type": "code",
      "source": [
        "# Define the reader with rating scale\n",
        "reader = Reader(rating_scale=(ratings['rating'].min(), ratings['rating'].max()))\n",
        "\n",
        "# Load data into Surprise's Dataset class\n",
        "data = Dataset.load_from_df(ratings[['userId', 'movieId', 'rating']], reader)\n"
      ],
      "metadata": {
        "id": "5TbDh0J0ts_u"
      },
      "execution_count": 9,
      "outputs": []
    },
    {
      "cell_type": "code",
      "source": [
        "# Split into training and test sets\n",
        "trainset, testset = train_test_split(data, test_size=0.2)\n"
      ],
      "metadata": {
        "id": "5vrXqJiEtxB4"
      },
      "execution_count": 10,
      "outputs": []
    },
    {
      "cell_type": "code",
      "source": [
        "# Initialize the SVD algorithm\n",
        "svd = SVD(n_factors=50)\n",
        "\n",
        "# Train the model\n",
        "svd.fit(trainset)\n"
      ],
      "metadata": {
        "colab": {
          "base_uri": "https://localhost:8080/"
        },
        "id": "LaiEQT5Qt0_r",
        "outputId": "071247c7-6e25-49f2-8c97-5b86c0164a6b"
      },
      "execution_count": 11,
      "outputs": [
        {
          "output_type": "execute_result",
          "data": {
            "text/plain": [
              "<surprise.prediction_algorithms.matrix_factorization.SVD at 0x7b2873e8bf40>"
            ]
          },
          "metadata": {},
          "execution_count": 11
        }
      ]
    },
    {
      "cell_type": "code",
      "source": [
        "# Test the model\n",
        "predictions = svd.test(testset)\n",
        "print(f\"Model accuracy (RMSE): {accuracy.rmse(predictions)}\")\n"
      ],
      "metadata": {
        "colab": {
          "base_uri": "https://localhost:8080/"
        },
        "id": "c2C0WjOYt5js",
        "outputId": "7e5a2166-68b5-4f9a-ac18-585b602fe66d"
      },
      "execution_count": 12,
      "outputs": [
        {
          "output_type": "stream",
          "name": "stdout",
          "text": [
            "RMSE: 0.8343\n",
            "Model accuracy (RMSE): 0.8342541905678057\n"
          ]
        }
      ]
    },
    {
      "cell_type": "code",
      "source": [
        "# Function to recommend movies\n",
        "def recommend_movies(user_id, movies_df, original_ratings, model, num_recommendations=10):\n",
        "    \"\"\"\n",
        "    Recommend top N movies for a given user using the trained SVD model.\n",
        "    :param user_id: The ID of the user for whom recommendations are to be made\n",
        "    :param movies_df: DataFrame with movie details\n",
        "    :param original_ratings: DataFrame with user ratings\n",
        "    :param model: Trained SVD model\n",
        "    :param num_recommendations: Number of movies to recommend\n",
        "    :return: DataFrames of already rated and recommended movies\n",
        "    \"\"\"\n",
        "\n",
        "    # Filter out movies the user has already rated\n",
        "    rated_movies = original_ratings[original_ratings['userId'] == user_id]\n",
        "    rated_movie_ids = set(rated_movies['movieId'])\n",
        "\n",
        "    # Predict ratings for unrated movies\n",
        "    all_movie_ids = set(movies_df['movieId'])\n",
        "    unrated_movie_ids = all_movie_ids - rated_movie_ids\n",
        "\n",
        "    recommendations = []\n",
        "    for movie_id in unrated_movie_ids:\n",
        "        est_rating = model.predict(user_id, movie_id).est\n",
        "        recommendations.append((movie_id, est_rating))\n",
        "\n",
        "    # Sort by estimated rating\n",
        "    recommendations = sorted(recommendations, key=lambda x: x[1], reverse=True)[:num_recommendations]\n",
        "\n",
        "    # Convert to DataFrame for easier viewing\n",
        "    rec_movie_ids = [movie_id for movie_id, _ in recommendations]\n",
        "    recommended_movies = movies_df[movies_df['movieId'].isin(rec_movie_ids)]\n",
        "    recommended_movies = recommended_movies.assign(Predicted_Rating=[est for _, est in recommendations])\n",
        "\n",
        "    # Display already rated movies and recommended movies\n",
        "    print(f'User {user_id} has already rated {len(rated_movie_ids)} movies.')\n",
        "    print(f'Recommending top {num_recommendations} movies not yet rated by User {user_id}.')\n",
        "\n",
        "    return rated_movies.merge(movies_df, on='movieId', how='left'), recommended_movies\n"
      ],
      "metadata": {
        "id": "C4um8GrZuCBj"
      },
      "execution_count": 13,
      "outputs": []
    },
    {
      "cell_type": "code",
      "source": [
        "# Get recommendations for a user\n",
        "already_rated, recommendations = recommend_movies(152, movies, ratings, svd, num_recommendations=20)\n",
        "\n",
        "# Display top rated movies and recommended movies\n",
        "print(\"Top 20 movies that User 152 has rated:\")\n",
        "print(already_rated.head(20))\n",
        "print(\"\\nTop 20 movies that User 152 may enjoy:\")\n",
        "print(recommendations)\n"
      ],
      "metadata": {
        "colab": {
          "base_uri": "https://localhost:8080/"
        },
        "id": "Am3ZHeMpuG0t",
        "outputId": "446ca66a-61d0-4089-d230-8716303f7860"
      },
      "execution_count": 14,
      "outputs": [
        {
          "output_type": "stream",
          "name": "stdout",
          "text": [
            "User 152 has already rated 154 movies.\n",
            "Recommending top 20 movies not yet rated by User 152.\n",
            "Top 20 movies that User 152 has rated:\n",
            "    userId  movieId  rating            timestamp  \\\n",
            "0      152        2     3.0  2006-10-18 23:47:31   \n",
            "1      152       16     4.5  2006-10-18 23:48:15   \n",
            "2      152       19     2.5  2006-10-18 23:47:46   \n",
            "3      152       39     5.0  2006-10-18 23:57:43   \n",
            "4      152       47     4.0  2006-10-18 23:52:27   \n",
            "5      152       50     4.0  2006-10-18 23:56:03   \n",
            "6      152       72     2.0  2006-10-18 23:49:42   \n",
            "7      152      104     3.0  2006-10-18 23:48:21   \n",
            "8      152      141     3.5  2006-10-18 23:56:24   \n",
            "9      152      150     3.5  2006-10-18 23:53:38   \n",
            "10     152      153     4.0  2006-10-18 23:56:00   \n",
            "11     152      185     2.5  2006-10-18 23:56:33   \n",
            "12     152      231     5.0  2006-10-18 23:55:47   \n",
            "13     152      235     3.5  2006-10-18 23:48:22   \n",
            "14     152      260     3.5  2006-10-18 23:53:59   \n",
            "15     152      296     4.0  2006-10-18 23:53:14   \n",
            "16     152      337     4.0  2006-10-18 23:48:31   \n",
            "17     152      339     2.0  2006-10-18 23:57:30   \n",
            "18     152      344     3.5  2006-10-18 23:54:32   \n",
            "19     152      356     2.0  2006-10-18 23:52:21   \n",
            "\n",
            "                                 title                         genres  year  \n",
            "0                              Jumanji     Adventure|Children|Fantasy  1995  \n",
            "1                               Casino                    Crime|Drama  1995  \n",
            "2       Ace Ventura: When Nature Calls                         Comedy  1995  \n",
            "3                             Clueless                 Comedy|Romance  1995  \n",
            "4                 Seven (a.k.a. Se7en)               Mystery|Thriller  1995  \n",
            "5                  Usual Suspects, The         Crime|Mystery|Thriller  1995  \n",
            "6                Kicking and Screaming                   Comedy|Drama  1995  \n",
            "7                        Happy Gilmore                         Comedy  1996  \n",
            "8                        Birdcage, The                         Comedy  1996  \n",
            "9                            Apollo 13           Adventure|Drama|IMAX  1995  \n",
            "10                      Batman Forever  Action|Adventure|Comedy|Crime  1995  \n",
            "11                            Net, The          Action|Crime|Thriller  1995  \n",
            "12     Dumb & Dumber (Dumb and Dumber)               Adventure|Comedy  1994  \n",
            "13                             Ed Wood                   Comedy|Drama  1994  \n",
            "14  Star Wars: Episode IV - A New Hope        Action|Adventure|Sci-Fi  1977  \n",
            "15                        Pulp Fiction    Comedy|Crime|Drama|Thriller  1994  \n",
            "16         What's Eating Gilbert Grape                          Drama  1993  \n",
            "17             While You Were Sleeping                 Comedy|Romance  1995  \n",
            "18          Ace Ventura: Pet Detective                         Comedy  1994  \n",
            "19                        Forrest Gump       Comedy|Drama|Romance|War  1994  \n",
            "\n",
            "Top 20 movies that User 152 may enjoy:\n",
            "       movieId                                              title  \\\n",
            "108        110                                         Braveheart   \n",
            "315        318                          Shawshank Redemption, The   \n",
            "668        678                   Some Folks Call It a Sling Blade   \n",
            "765        778                                      Trainspotting   \n",
            "1231      1259                                        Stand by Me   \n",
            "2239      2324                Life Is Beautiful (La Vita è bella)   \n",
            "2244      2329                                 American History X   \n",
            "2920      3006                                       Insider, The   \n",
            "3003      3090                                            Matewan   \n",
            "5473      5570                                     Thesis (Tesis)   \n",
            "6873      6985  Passion of Joan of Arc, The (Passion de Jeanne...   \n",
            "6984      7096                                   Rivers and Tides   \n",
            "7094      7206                               Mon Oncle (My Uncle)   \n",
            "7356      7502                                   Band of Brothers   \n",
            "8937     26587                           Decalogue, The (Dekalog)   \n",
            "12204    55721                       Elite Squad (Tropa de Elite)   \n",
            "12932    61240      Let the Right One In (Låt den rätte komma in)   \n",
            "15208    77658                                             Cosmos   \n",
            "17877    89759            Separation, A (Jodaeiye Nader az Simin)   \n",
            "22679   108583                          Fawlty Towers (1975-1979)   \n",
            "\n",
            "                             genres  year  Predicted_Rating  \n",
            "108                Action|Drama|War  1995          4.402149  \n",
            "315                     Crime|Drama  1994          4.373308  \n",
            "668                  Drama|Thriller  1993          4.324897  \n",
            "765              Comedy|Crime|Drama  1996          4.311534  \n",
            "1231                Adventure|Drama  1986          4.266745  \n",
            "2239       Comedy|Drama|Romance|War  1997          4.242765  \n",
            "2244                    Crime|Drama  1998          4.240902  \n",
            "2920                 Drama|Thriller  1999          4.237502  \n",
            "3003                          Drama  1987          4.237260  \n",
            "5473          Drama|Horror|Thriller  1996          4.214426  \n",
            "6873                          Drama  1928          4.204239  \n",
            "6984                    Documentary  2001          4.204234  \n",
            "7094                         Comedy  1958          4.195474  \n",
            "7356               Action|Drama|War  2001          4.192460  \n",
            "8937            Crime|Drama|Romance  1989          4.186609  \n",
            "12204   Action|Crime|Drama|Thriller  2007          4.184683  \n",
            "12932  Drama|Fantasy|Horror|Romance  2008          4.178458  \n",
            "15208                   Documentary  1980          4.177516  \n",
            "17877                         Drama  2011          4.176458  \n",
            "22679                        Comedy   NaN          4.175005  \n"
          ]
        }
      ]
    },
    {
      "cell_type": "code",
      "source": [],
      "metadata": {
        "id": "oywa9z75uLe8"
      },
      "execution_count": null,
      "outputs": []
    }
  ]
}